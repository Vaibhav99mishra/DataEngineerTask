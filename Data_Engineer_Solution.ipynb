{
  "nbformat": 4,
  "nbformat_minor": 0,
  "metadata": {
    "kernelspec": {
      "display_name": "Python 3",
      "language": "python",
      "name": "python3"
    },
    "language_info": {
      "codemirror_mode": {
        "name": "ipython",
        "version": 3
      },
      "file_extension": ".py",
      "mimetype": "text/x-python",
      "name": "python",
      "nbconvert_exporter": "python",
      "pygments_lexer": "ipython3",
      "version": "3.6.5"
    },
    "colab": {
      "name": "20. WS - The Mirror.ipynb",
      "provenance": [],
      "collapsed_sections": [
        "cmuss1Bce6zU",
        "Pku1K5cWn6VQ"
      ]
    }
  },
  "cells": [
    {
      "cell_type": "markdown",
      "metadata": {
        "id": "QyYGhBYre6zC"
      },
      "source": [
        "# Web Scraping: The Mirror"
      ]
    },
    {
      "cell_type": "code",
      "metadata": {
        "id": "OJhh7TTQe6zG"
      },
      "source": [
        "import requests\n",
        "from bs4 import BeautifulSoup\n",
        "import numpy as np\n",
        "import pandas as pd\n",
        "import time"
      ],
      "execution_count": null,
      "outputs": []
    },
    {
      "cell_type": "markdown",
      "metadata": {
        "id": "--PuzgMoe6zH"
      },
      "source": [
        "### Obtain list of news from the coverpage"
      ]
    },
    {
      "cell_type": "markdown",
      "metadata": {
        "id": "nLML02Voe6zI"
      },
      "source": [
        "URL definition:"
      ]
    },
    {
      "cell_type": "code",
      "metadata": {
        "id": "aywBFjrOe6zJ"
      },
      "source": [
        "# url definition\n",
        "url = \"https://www.mirror.co.uk\""
      ],
      "execution_count": null,
      "outputs": []
    },
    {
      "cell_type": "markdown",
      "metadata": {
        "id": "6YRaLKLje6zJ"
      },
      "source": [
        "List of news:"
      ]
    },
    {
      "cell_type": "code",
      "metadata": {
        "colab": {
          "base_uri": "https://localhost:8080/"
        },
        "id": "7TF1pACXe6zK",
        "outputId": "22b910af-e2f9-49dc-fcf2-41e3b299a0ea"
      },
      "source": [
        "# Request\n",
        "r1 = requests.get(url)\n",
        "print(r1.status_code)\n",
        "\n",
        "# We'll save in coverpage the cover page content\n",
        "coverpage = r1.content\n",
        "\n",
        "# Soup creation\n",
        "soup1 = BeautifulSoup(coverpage, 'html5lib')\n",
        "\n",
        "# News identification\n",
        "coverpage_news = soup1.find_all('article', class_='story story--news')\n",
        "len(coverpage_news)"
      ],
      "execution_count": null,
      "outputs": [
        {
          "output_type": "stream",
          "text": [
            "200\n"
          ],
          "name": "stdout"
        },
        {
          "output_type": "execute_result",
          "data": {
            "text/plain": [
              "262"
            ]
          },
          "metadata": {
            "tags": []
          },
          "execution_count": 4
        }
      ]
    },
    {
      "cell_type": "markdown",
      "metadata": {
        "id": "Qd_JbmvGe6zM"
      },
      "source": [
        "Now we have a list in which every element is a news article:"
      ]
    },
    {
      "cell_type": "code",
      "metadata": {
        "colab": {
          "base_uri": "https://localhost:8080/"
        },
        "id": "AWlRH-lze6zN",
        "outputId": "0e99592f-ed41-4da0-8e5c-3e2e5112708a"
      },
      "source": [
        "coverpage_news[1]"
      ],
      "execution_count": null,
      "outputs": [
        {
          "output_type": "execute_result",
          "data": {
            "text/plain": [
              "<article class=\"story story--news\" data-priority=\"B\" data-section=\"news-world-news\" data-style=\"news\"><a href=\"https://www.mirror.co.uk/news/world-news/boy-6-who-survived-italy-24767107\"><amp-img alt=\"Orphaned boy who was only survivor of cable car tragedy centre of bitter custody battle\" class=\"image image--wide cover \" content=\"https://i2-prod.mirror.co.uk/incoming/article24767222.ece/ALTERNATES/n615/2_PAY-Italy-cable-car-crash-Boy-2-killed-in-horror-crash-alongside-parents-pictured-as-brother-5-figh.jpg\" height=\"90\" layout=\"responsive\" src=\"https://i2-prod.mirror.co.uk/incoming/article24767222.ece/ALTERNATES/n615/2_PAY-Italy-cable-car-crash-Boy-2-killed-in-horror-crash-alongside-parents-pictured-as-brother-5-figh.jpg\" srcset=\"https://i2-prod.mirror.co.uk/incoming/article24767222.ece/ALTERNATES/r250/2_PAY-Italy-cable-car-crash-Boy-2-killed-in-horror-crash-alongside-parents-pictured-as-brother-5-figh.jpg 250w, https://i2-prod.mirror.co.uk/incoming/article24767222.ece/ALTERNATES/r500/2_PAY-Italy-cable-car-crash-Boy-2-killed-in-horror-crash-alongside-parents-pictured-as-brother-5-figh.jpg 500w, https://i2-prod.mirror.co.uk/incoming/article24767222.ece/ALTERNATES/s1200d/2_PAY-Italy-cable-car-crash-Boy-2-killed-in-horror-crash-alongside-parents-pictured-as-brother-5-figh.jpg 1000w\" width=\"160\"><div class=\"placeholder--169\" placeholder=\"placeholder\"></div><div class=\"logo-placeholder\"></div></amp-img><div class=\"story__title\"><h2>Boy, 6, who survived Italy cable car crash that killed parents at centre of custody battle</h2></div></a><a class=\"story__tag\" href=\"https://www.mirror.co.uk/all-about/accidents\">Accidents</a></article>"
            ]
          },
          "metadata": {
            "tags": []
          },
          "execution_count": 5
        }
      ]
    },
    {
      "cell_type": "code",
      "metadata": {
        "id": "ZivdWVrZe6zO",
        "colab": {
          "base_uri": "https://localhost:8080/"
        },
        "outputId": "b2f33770-8314-4397-efb0-fd63a62ccd90"
      },
      "source": [
        "n=1\n",
        "headers = {'User-Agent': 'Mozilla/5.0 (Macintosh; Intel Mac OS X 10_11_5) AppleWebKit/537.36 (KHTML, like Gecko) Chrome/50.0.2661.102 Safari/537.36'}\n",
        "\n",
        "link = coverpage_news[n].find('a')['href']\n",
        "title = coverpage_news[n].find('h2').get_text()\n",
        "article = requests.get(link,headers=headers)\n",
        "print(article)\n",
        "article_content = article.content\n",
        "soup_article = BeautifulSoup(article_content, 'html5lib')\n"
      ],
      "execution_count": null,
      "outputs": [
        {
          "output_type": "stream",
          "text": [
            "<Response [200]>\n"
          ],
          "name": "stdout"
        }
      ]
    },
    {
      "cell_type": "code",
      "metadata": {
        "id": "UWH_oWWGe6zP",
        "colab": {
          "base_uri": "https://localhost:8080/",
          "height": 35
        },
        "outputId": "2ebc3213-f0f6-4226-8287-1c4537c2d444"
      },
      "source": [
        "title"
      ],
      "execution_count": null,
      "outputs": [
        {
          "output_type": "execute_result",
          "data": {
            "application/vnd.google.colaboratory.intrinsic+json": {
              "type": "string"
            },
            "text/plain": [
              "'Boy, 6, who survived Italy cable car crash that killed parents at centre of custody battle'"
            ]
          },
          "metadata": {
            "tags": []
          },
          "execution_count": 7
        }
      ]
    },
    {
      "cell_type": "code",
      "metadata": {
        "id": "8_qfIe6ie6zP"
      },
      "source": [
        "body = soup_article.find_all('p')"
      ],
      "execution_count": null,
      "outputs": []
    },
    {
      "cell_type": "code",
      "metadata": {
        "id": "oPsTghtne6zP",
        "colab": {
          "base_uri": "https://localhost:8080/"
        },
        "outputId": "7f22d718-eb9f-491f-bf60-7112cf04bf7d"
      },
      "source": [
        "body"
      ],
      "execution_count": null,
      "outputs": [
        {
          "output_type": "execute_result",
          "data": {
            "text/plain": [
              "[<p class=\"lead-content__sub-title\" itemprop=\"description\">Eitan Biran was the only survivor of the crash in the Alps earlier this year. His younger brother, mother, father and great-grandparents were five of the 13 that died</p>,\n",
              " <p>A six-year-old boy who was orphaned in a terrifying cable car tragedy is now at the centre of a bitter custody battle.</p>,\n",
              " <p>Eitan Biran was the only survivor in the Alps in May 23, after the cable car they were travelling up a mountain in dropped 1,000ft away from the station.</p>,\n",
              " <p>The crash killed his mother Tal, 26, father Amit, 30, two-year-old brother Tom and great-grandparents Itshak and Barbara Cohen, 82 and 70.</p>,\n",
              " <p>The family were looking over Lake Maggiore when they fell. Eight others, not related to Eitan, died after the tragedy.</p>,\n",
              " <p>Matteo Gasparini, provincial head of Italy's Alpine rescue service, said at the time there appeared to have been two major problems - the breakage of the cable and the failure of the emergency brake.</p>,\n",
              " <p>He said: \"We don't know why it didn't activate, while in the downstream car it worked.\"</p>,\n",
              " <p>\"The cable car sped backwards and \"ended up catapulted out of the support cables\", Mr Gasparini added.</p>,\n",
              " <p>It is believed the car struck a pylon and plummeted to the ground, tumbling down the mountain until it crashed into trees.</p>,\n",
              " <p>Two aunts of the boy are now embroiled in a custody battle for his care, the Daily Mail reports.</p>,\n",
              " <p>Eitan has been living with his paternal aunt Aya Biran-Nirko who lives near Pavia in Italy since he was released from hospital in June.</p>,\n",
              " <p>Last week, however, Eitan's maternal aunt Gali Peleg said her family would be taking legal action so he could have a \"normal\" life in Israel.</p>,\n",
              " <p>Mrs Peleg told the Times: \"He was abducted by relatives who don't know him at all. [Biran-Nirko] was not close to him in any way. The family there won't take him to a park or out to eat, things we have done so he feels he has a family.</p>,\n",
              " <p>She said her sister valued Jewish and Israeli identity, which would be eroded if Eitan continued to live in Italy.</p>,\n",
              " <p>She said: \"In a few years he'll look back and see where he grew up and who his parents were, and it's important to me that he sees that we were always there for him. He's already lost one family and does not need to lose another.\"</p>,\n",
              " <p>Mrs Peleg says she has only been allowed to see Eitan briefly since the tragedy and says he \"breaks into tears\" when she leaves him.</p>,\n",
              " <p>The allegations were branded \"surreal\" by Mrs Biran-Nirko's lawyers, who said: \"We sincerely cannot understand the reason for such acrimony and falsehood.\"</p>,\n",
              " <p>Doctors have said Eitan is recovering and that his conditions - including post-traumatic stress disorder are \"significantly improving.\"</p>,\n",
              " <p>Mrs Biran-Nirko and Eitan's grandmother both travelled from Israel to sit at his bedside and remain with him in hospital.</p>,\n",
              " <p> <reach-mpu class=\"ad-placeholder ad-placeholder--mpu ad-placeholder--in-article ad-placeholder--above-embed\"></reach-mpu></p>,\n",
              " <p> <reach-mpu class=\"ad-placeholder ad-placeholder--mpu ad-placeholder--in-article ad-placeholder--above-embed\"></reach-mpu></p>,\n",
              " <p>Get email updates with the day's biggest stories</p>]"
            ]
          },
          "metadata": {
            "tags": []
          },
          "execution_count": 9
        }
      ]
    },
    {
      "cell_type": "code",
      "metadata": {
        "id": "-jbKsZcme6zQ",
        "colab": {
          "base_uri": "https://localhost:8080/"
        },
        "outputId": "ab3526c4-6fbf-4e46-cc5a-7329aa35d163"
      },
      "source": [
        "len(body)"
      ],
      "execution_count": null,
      "outputs": [
        {
          "output_type": "execute_result",
          "data": {
            "text/plain": [
              "22"
            ]
          },
          "metadata": {
            "tags": []
          },
          "execution_count": 10
        }
      ]
    },
    {
      "cell_type": "code",
      "metadata": {
        "id": "77EXFpLFe6zQ"
      },
      "source": [
        "x = soup_article.find_all('p')"
      ],
      "execution_count": null,
      "outputs": []
    },
    {
      "cell_type": "code",
      "metadata": {
        "id": "3HeojHRqe6zR",
        "colab": {
          "base_uri": "https://localhost:8080/"
        },
        "outputId": "3158a361-bc9a-41ac-cc1e-03a29d8f9936"
      },
      "source": [
        "len(x)"
      ],
      "execution_count": null,
      "outputs": [
        {
          "output_type": "execute_result",
          "data": {
            "text/plain": [
              "22"
            ]
          },
          "metadata": {
            "tags": []
          },
          "execution_count": 12
        }
      ]
    },
    {
      "cell_type": "code",
      "metadata": {
        "id": "8j0_zHQMe6zR",
        "colab": {
          "base_uri": "https://localhost:8080/",
          "height": 35
        },
        "outputId": "78bc636d-5e9f-4833-9d8d-4449f2da9379"
      },
      "source": [
        "x[0].get_text()"
      ],
      "execution_count": null,
      "outputs": [
        {
          "output_type": "execute_result",
          "data": {
            "application/vnd.google.colaboratory.intrinsic+json": {
              "type": "string"
            },
            "text/plain": [
              "'Eitan Biran was the only survivor of the crash in the Alps earlier this year. His younger brother, mother, father and great-grandparents were five of the 13 that died'"
            ]
          },
          "metadata": {
            "tags": []
          },
          "execution_count": 13
        }
      ]
    },
    {
      "cell_type": "code",
      "metadata": {
        "id": "LAP8z9kIe6zR"
      },
      "source": [
        "#list_links"
      ],
      "execution_count": null,
      "outputs": []
    },
    {
      "cell_type": "markdown",
      "metadata": {
        "id": "edGWvDRKe6zR"
      },
      "source": [
        "### Let's extract the text from the articles:"
      ]
    },
    {
      "cell_type": "markdown",
      "metadata": {
        "id": "3nTlqFEfe6zS"
      },
      "source": [
        "First, we'll define the number of articles we want:"
      ]
    },
    {
      "cell_type": "code",
      "metadata": {
        "id": "GfP-Eznye6zS"
      },
      "source": [
        "number_of_articles = 200"
      ],
      "execution_count": null,
      "outputs": []
    },
    {
      "cell_type": "code",
      "metadata": {
        "id": "I4znU5Doe6zS"
      },
      "source": [
        "# Empty lists for content, links and titles\n",
        "news_contents = []\n",
        "list_links = []\n",
        "list_titles = []\n",
        "\n",
        "for n in np.arange(0, number_of_articles):\n",
        "    # Getting the link of the article\n",
        "    link = coverpage_news[n].find('a')['href']\n",
        "    list_links.append(link)\n",
        "    \n",
        "    # Getting the title\n",
        "    title = coverpage_news[n].find('h2').get_text()\n",
        "    list_titles.append(title)\n",
        "    \n",
        "    # Reading the content (it is divided in paragraphs)\n",
        "    #print(link)\n",
        "    article = requests.get(link,headers=headers)\n",
        "    article_content = article.content\n",
        "    #print(article_content)\n",
        "    soup_article = BeautifulSoup(article_content, 'html5lib')\n",
        "    x = soup_article.find_all('p')\n",
        "    \n",
        "    # Unifying the paragraphs\n",
        "    list_paragraphs = []\n",
        "    for p in np.arange(0, len(x)):\n",
        "        paragraph = x[p].get_text()\n",
        "        list_paragraphs.append(paragraph)\n",
        "        final_article = \" \".join(list_paragraphs)\n",
        "        \n",
        "    news_contents.append(final_article)"
      ],
      "execution_count": null,
      "outputs": []
    },
    {
      "cell_type": "markdown",
      "metadata": {
        "id": "YK17yIpoe6zS"
      },
      "source": [
        "Let's put them into:\n",
        "* a dataset which will the input of the models (`df_features`)\n",
        "* a dataset with the title and the link (`df_show_info`)"
      ]
    },
    {
      "cell_type": "code",
      "metadata": {
        "id": "T6h5xOh5e6zT"
      },
      "source": [
        "# df_features\n",
        "df_features = pd.DataFrame(\n",
        "     {'Article Content': news_contents \n",
        "    })\n",
        "\n",
        "# df_show_info\n",
        "df_show_info = pd.DataFrame(\n",
        "    {'Article Title': list_titles,\n",
        "     'Article Link': list_links,\n",
        "     'Article Content': news_contents })"
      ],
      "execution_count": null,
      "outputs": []
    },
    {
      "cell_type": "code",
      "metadata": {
        "id": "YRBXlDQje6zT",
        "colab": {
          "base_uri": "https://localhost:8080/",
          "height": 417
        },
        "outputId": "4fbc65db-003c-483b-9f5c-9b44ac347d23"
      },
      "source": [
        "df_features"
      ],
      "execution_count": null,
      "outputs": [
        {
          "output_type": "execute_result",
          "data": {
            "text/html": [
              "<div>\n",
              "<style scoped>\n",
              "    .dataframe tbody tr th:only-of-type {\n",
              "        vertical-align: middle;\n",
              "    }\n",
              "\n",
              "    .dataframe tbody tr th {\n",
              "        vertical-align: top;\n",
              "    }\n",
              "\n",
              "    .dataframe thead th {\n",
              "        text-align: right;\n",
              "    }\n",
              "</style>\n",
              "<table border=\"1\" class=\"dataframe\">\n",
              "  <thead>\n",
              "    <tr style=\"text-align: right;\">\n",
              "      <th></th>\n",
              "      <th>Article Content</th>\n",
              "    </tr>\n",
              "  </thead>\n",
              "  <tbody>\n",
              "    <tr>\n",
              "      <th>0</th>\n",
              "      <td>Detective Constable David Louden and his three...</td>\n",
              "    </tr>\n",
              "    <tr>\n",
              "      <th>1</th>\n",
              "      <td>Eitan Biran was the only survivor of the crash...</td>\n",
              "    </tr>\n",
              "    <tr>\n",
              "      <th>2</th>\n",
              "      <td>Maxine Davison, Lee Martyn, Sophie Martyn, Ste...</td>\n",
              "    </tr>\n",
              "    <tr>\n",
              "      <th>3</th>\n",
              "      <td>Tracy Beaker actress Dani Harmer is expecting ...</td>\n",
              "    </tr>\n",
              "    <tr>\n",
              "      <th>4</th>\n",
              "      <td>Priya Gopaldas, Brett Staniland, Liberty Poole...</td>\n",
              "    </tr>\n",
              "    <tr>\n",
              "      <th>...</th>\n",
              "      <td>...</td>\n",
              "    </tr>\n",
              "    <tr>\n",
              "      <th>195</th>\n",
              "      <td>Sun seekers are finally getting hotter tempera...</td>\n",
              "    </tr>\n",
              "    <tr>\n",
              "      <th>196</th>\n",
              "      <td>Mel and her gondala operating lover Riccardo S...</td>\n",
              "    </tr>\n",
              "    <tr>\n",
              "      <th>197</th>\n",
              "      <td>Three-year-old Sophie Martyn was pushing a toy...</td>\n",
              "    </tr>\n",
              "    <tr>\n",
              "      <th>198</th>\n",
              "      <td>The structure was erected on a green near the ...</td>\n",
              "    </tr>\n",
              "    <tr>\n",
              "      <th>199</th>\n",
              "      <td>The 7.2 magnitude quake struck western Haiti a...</td>\n",
              "    </tr>\n",
              "  </tbody>\n",
              "</table>\n",
              "<p>200 rows × 1 columns</p>\n",
              "</div>"
            ],
            "text/plain": [
              "                                       Article Content\n",
              "0    Detective Constable David Louden and his three...\n",
              "1    Eitan Biran was the only survivor of the crash...\n",
              "2    Maxine Davison, Lee Martyn, Sophie Martyn, Ste...\n",
              "3    Tracy Beaker actress Dani Harmer is expecting ...\n",
              "4    Priya Gopaldas, Brett Staniland, Liberty Poole...\n",
              "..                                                 ...\n",
              "195  Sun seekers are finally getting hotter tempera...\n",
              "196  Mel and her gondala operating lover Riccardo S...\n",
              "197  Three-year-old Sophie Martyn was pushing a toy...\n",
              "198  The structure was erected on a green near the ...\n",
              "199  The 7.2 magnitude quake struck western Haiti a...\n",
              "\n",
              "[200 rows x 1 columns]"
            ]
          },
          "metadata": {
            "tags": []
          },
          "execution_count": 18
        }
      ]
    },
    {
      "cell_type": "code",
      "metadata": {
        "id": "TRZJAAjEe6zT",
        "colab": {
          "base_uri": "https://localhost:8080/"
        },
        "outputId": "4f4ebb17-dba0-42fa-925d-4641131c63f2"
      },
      "source": [
        "df_show_info.to_csv('Datsets.csv')\n",
        "import nltk\n",
        "nltk.download('punkt')\n",
        "stop_words=['covid','coronavirus']\n",
        "def get_keywords(row):\n",
        "    some_text = row['Article Content']\n",
        "    lowered = some_text.lower()\n",
        "    tokens = nltk.tokenize.word_tokenize(some_text)\n",
        "    keywords = [keyword for keyword in tokens if keyword.isalpha() and keyword in stop_words]\n",
        "    keywords_string = ','.join(keywords)\n",
        "    return keywords_string\n",
        "\n",
        "\n",
        "df_show_info['Keywords'] = df_show_info.apply(get_keywords,axis=1)\n"
      ],
      "execution_count": null,
      "outputs": [
        {
          "output_type": "stream",
          "text": [
            "[nltk_data] Downloading package punkt to /root/nltk_data...\n",
            "[nltk_data]   Unzipping tokenizers/punkt.zip.\n"
          ],
          "name": "stdout"
        }
      ]
    },
    {
      "cell_type": "code",
      "metadata": {
        "id": "xTFRI9rze6zV"
      },
      "source": [
        "df_show_info.to_csv('Datasets_with_keywords.csv')"
      ],
      "execution_count": null,
      "outputs": []
    },
    {
      "cell_type": "code",
      "metadata": {
        "id": "OW7Ip27p8Dq3"
      },
      "source": [
        ""
      ],
      "execution_count": null,
      "outputs": []
    }
  ]
}